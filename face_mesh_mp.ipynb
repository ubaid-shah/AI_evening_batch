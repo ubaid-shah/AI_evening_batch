{
 "cells": [
  {
   "cell_type": "code",
   "execution_count": 22,
   "metadata": {},
   "outputs": [],
   "source": [
    "import cv2\n",
    "import mediapipe as mp"
   ]
  },
  {
   "cell_type": "code",
   "execution_count": 23,
   "metadata": {},
   "outputs": [],
   "source": [
    "img=cv2.imread(r'C:\\Users\\admin\\Documents\\cv_evening\\haarcascade\\b.jpg')"
   ]
  },
  {
   "cell_type": "code",
   "execution_count": 24,
   "metadata": {},
   "outputs": [],
   "source": [
    "mp_drawings=mp.solutions.drawing_utils\n",
    "mp_drawing_styles=mp.solutions.drawing_styles\n",
    "\n",
    "my_drawing_specs=mp_drawings.DrawingSpec(color=(0,255,0),thickness=1)"
   ]
  },
  {
   "cell_type": "code",
   "execution_count": 25,
   "metadata": {},
   "outputs": [],
   "source": [
    "mp_face_mesh=mp.solutions.face_mesh"
   ]
  },
  {
   "cell_type": "code",
   "execution_count": 26,
   "metadata": {},
   "outputs": [],
   "source": [
    "with mp_face_mesh.FaceMesh(\n",
    "  max_num_faces=2,\n",
    "  refine_landmarks=True,\n",
    "  min_detection_confidence=0.5,\n",
    "  min_tracking_confidence=0.5\n",
    ") as face_mesh:\n",
    "  results=face_mesh.process(img)\n",
    "  \n",
    "  for land_mark in results.multi_face_landmarks:\n",
    "    # print(len((land_mark).landmark))\n",
    "    \n",
    "    mp_drawings.draw_landmarks(\n",
    "      image=img,\n",
    "      landmark_list=land_mark,\n",
    "      connections=mp_face_mesh.FACEMESH_TESSELATION,\n",
    "      landmark_drawing_spec=None,\n",
    "      connection_drawing_spec=mp_drawing_styles\n",
    "      .get_default_face_mesh_tesselation_style()\n",
    "    )\n",
    "\n",
    "    mp_drawings.draw_landmarks(\n",
    "      image=img,\n",
    "      landmark_list=land_mark,\n",
    "      connections=mp_face_mesh.FACEMESH_CONTOURS,\n",
    "      landmark_drawing_spec=None,\n",
    "      connection_drawing_spec=mp_drawing_styles\n",
    "      .get_default_face_mesh_contours_style()\n",
    "    )"
   ]
  },
  {
   "cell_type": "code",
   "execution_count": 27,
   "metadata": {},
   "outputs": [],
   "source": [
    "cv2.imshow('img',img)\n",
    "cv2.waitKey(0)\n",
    "cv2.destroyAllWindows()"
   ]
  },
  {
   "cell_type": "markdown",
   "metadata": {},
   "source": [
    "### For Video"
   ]
  },
  {
   "cell_type": "code",
   "execution_count": 1,
   "metadata": {},
   "outputs": [],
   "source": [
    "import cv2\n",
    "import mediapipe as mp"
   ]
  },
  {
   "cell_type": "code",
   "execution_count": 2,
   "metadata": {},
   "outputs": [],
   "source": [
    "mp_drawings=mp.solutions.drawing_utils\n",
    "mp_drawing_styles=mp.solutions.drawing_styles\n",
    "\n",
    "my_drawing_specs=mp_drawings.DrawingSpec(color=(0,255,0),thickness=1)\n",
    "\n",
    "mp_face_mesh=mp.solutions.face_mesh"
   ]
  },
  {
   "cell_type": "code",
   "execution_count": 3,
   "metadata": {},
   "outputs": [],
   "source": [
    "cap=cv2.VideoCapture(r'C:\\Users\\admin\\Documents\\cv_evening\\haarcascade\\mm.mp4')"
   ]
  },
  {
   "cell_type": "code",
   "execution_count": 4,
   "metadata": {},
   "outputs": [],
   "source": [
    "with mp_face_mesh.FaceMesh(\n",
    "  max_num_faces=2,\n",
    "  refine_landmarks=True,\n",
    "  min_detection_confidence=0.5,\n",
    "  min_tracking_confidence=0.5\n",
    ") as face_mesh:\n",
    "  while cap.isOpened():\n",
    "    \n",
    "    ret,img=cap.read()\n",
    "    \n",
    "    results=face_mesh.process(img)\n",
    "  \n",
    "    for land_mark in results.multi_face_landmarks:\n",
    "      # print(len((land_mark).landmark))\n",
    "      \n",
    "      mp_drawings.draw_landmarks(\n",
    "        image=img,\n",
    "        landmark_list=land_mark,\n",
    "        connections=mp_face_mesh.FACEMESH_TESSELATION,\n",
    "        landmark_drawing_spec=None,\n",
    "        connection_drawing_spec=mp_drawing_styles\n",
    "        .get_default_face_mesh_tesselation_style()\n",
    "      )\n",
    "\n",
    "      mp_drawings.draw_landmarks(\n",
    "        image=img,\n",
    "        landmark_list=land_mark,\n",
    "        connections=mp_face_mesh.FACEMESH_CONTOURS,\n",
    "        landmark_drawing_spec=None,\n",
    "        connection_drawing_spec=mp_drawing_styles\n",
    "        .get_default_face_mesh_contours_style()\n",
    "      )\n",
    "\n",
    "\n",
    "    cv2.imshow('img',img)\n",
    "    \n",
    "    if cv2.waitKey(10) & 0xFF==ord('q'):\n",
    "      break\n",
    "    \n",
    "cap.release()  \n",
    "cv2.destroyAllWindows()"
   ]
  },
  {
   "cell_type": "code",
   "execution_count": null,
   "metadata": {},
   "outputs": [],
   "source": []
  }
 ],
 "metadata": {
  "kernelspec": {
   "display_name": "Python 3",
   "language": "python",
   "name": "python3"
  },
  "language_info": {
   "codemirror_mode": {
    "name": "ipython",
    "version": 3
   },
   "file_extension": ".py",
   "mimetype": "text/x-python",
   "name": "python",
   "nbconvert_exporter": "python",
   "pygments_lexer": "ipython3",
   "version": "3.10.0"
  }
 },
 "nbformat": 4,
 "nbformat_minor": 2
}
