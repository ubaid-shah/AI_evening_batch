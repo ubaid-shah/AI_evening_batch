{
 "cells": [
  {
   "cell_type": "code",
   "execution_count": 2,
   "metadata": {},
   "outputs": [],
   "source": [
    "import cv2"
   ]
  },
  {
   "cell_type": "code",
   "execution_count": 5,
   "metadata": {},
   "outputs": [],
   "source": [
    "img=cv2.imread('./Template matching data/soccer_practice.jpg')\n",
    "template=cv2.imread('./Template matching data/ball.PNG')\n",
    "\n",
    "img_gray=cv2.cvtColor(img,cv2.COLOR_BGR2GRAY)\n",
    "template_gray=cv2.cvtColor(template,cv2.COLOR_BGR2GRAY)"
   ]
  },
  {
   "cell_type": "code",
   "execution_count": 7,
   "metadata": {},
   "outputs": [],
   "source": [
    "h,w=template_gray.shape"
   ]
  },
  {
   "cell_type": "code",
   "execution_count": 8,
   "metadata": {},
   "outputs": [],
   "source": [
    "methods=[cv2.TM_CCOEFF,\n",
    "         cv2.TM_CCOEFF_NORMED,\n",
    "         cv2.TM_CCORR,\n",
    "         cv2.TM_CCORR_NORMED,\n",
    "         cv2.TM_SQDIFF,\n",
    "         cv2.TM_SQDIFF_NORMED]\n",
    "\n",
    "labels=['cv2.TM_CCOEFF',\n",
    "         'cv2.TM_CCOEFF_NORMED',\n",
    "         'cv2.TM_CCORR',\n",
    "         'cv2.TM_CCORR_NORMED',\n",
    "         'cv2.TM_SQDIFF',\n",
    "         'cv2.TM_SQDIFF_NORMED']"
   ]
  },
  {
   "cell_type": "code",
   "execution_count": 12,
   "metadata": {},
   "outputs": [],
   "source": [
    "for method in methods:\n",
    "  img2=img_gray.copy()\n",
    "  \n",
    "  result=cv2.matchTemplate(img2,template_gray,method)\n",
    "  \n",
    "  min_val,max_val,min_loc,max_loc=cv2.minMaxLoc(result)\n",
    "  # print(method,'----------',(min_val,max_val,min_loc,max_loc))\n",
    "  \n",
    "  if method in [cv2.TM_SQDIFF,cv2.TM_SQDIFF_NORMED]:\n",
    "    upper_left=min_loc\n",
    "  else:\n",
    "    upper_left=max_loc\n",
    "    \n",
    "  bottom_right=(upper_left[0]+w,upper_left[1]+h)\n",
    "  cv2.rectangle(img,upper_left,bottom_right,(0,255,0),3)\n",
    "  cv2.imshow(labels[method],img)\n",
    "  cv2.waitKey(0)\n",
    "  cv2.destroyAllWindows()\n",
    "  "
   ]
  },
  {
   "cell_type": "code",
   "execution_count": 4,
   "metadata": {},
   "outputs": [],
   "source": [
    "cv2.imshow('img',img)\n",
    "cv2.waitKey(0)\n",
    "cv2.destroyAllWindows()"
   ]
  },
  {
   "cell_type": "code",
   "execution_count": null,
   "metadata": {},
   "outputs": [],
   "source": []
  }
 ],
 "metadata": {
  "kernelspec": {
   "display_name": "Python 3",
   "language": "python",
   "name": "python3"
  },
  "language_info": {
   "codemirror_mode": {
    "name": "ipython",
    "version": 3
   },
   "file_extension": ".py",
   "mimetype": "text/x-python",
   "name": "python",
   "nbconvert_exporter": "python",
   "pygments_lexer": "ipython3",
   "version": "3.10.0"
  }
 },
 "nbformat": 4,
 "nbformat_minor": 2
}
