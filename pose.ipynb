{
 "cells": [
  {
   "cell_type": "code",
   "execution_count": 2,
   "metadata": {},
   "outputs": [],
   "source": [
    "import cv2\n",
    "import mediapipe as mp"
   ]
  },
  {
   "cell_type": "code",
   "execution_count": 3,
   "metadata": {},
   "outputs": [],
   "source": [
    "mp_drawings=mp.solutions.drawing_utils\n",
    "mp_holistic=mp.solutions.holistic"
   ]
  },
  {
   "cell_type": "code",
   "execution_count": null,
   "metadata": {},
   "outputs": [],
   "source": [
    "# mp_holistic.HAND_CONNECTIONS\n",
    "# mp_holistic.POSE_CONNECTIONS\n",
    "# mp_holistic.FACEMESH_TESSELATION"
   ]
  },
  {
   "cell_type": "code",
   "execution_count": null,
   "metadata": {},
   "outputs": [],
   "source": [
    "mp_drawings.DrawingSpec??"
   ]
  },
  {
   "cell_type": "code",
   "execution_count": 15,
   "metadata": {},
   "outputs": [],
   "source": [
    "cap=cv2.VideoCapture(r'C:\\Users\\admin\\Documents\\cv_evening\\haarcascade\\dance.mp4')\n",
    "\n",
    "with mp_holistic.Holistic(min_tracking_confidence=0.5,\n",
    "                          min_detection_confidence=0.5,\n",
    "                          refine_face_landmarks=True) as holistic:\n",
    "  while cap.isOpened():\n",
    "    ret,img=cap.read()\n",
    "    if not ret:\n",
    "      break\n",
    "    \n",
    "    result=holistic.process(img)\n",
    "    # print(result.face_landmarks)\n",
    "    #1. Face connections\n",
    "    \n",
    "    mp_drawings.draw_landmarks(image=img,\n",
    "                               landmark_list=result.face_landmarks,\n",
    "                               connections=mp_holistic.FACEMESH_TESSELATION,\n",
    "                               landmark_drawing_spec=mp_drawings.DrawingSpec(color=(0,255,0),\n",
    "                                                                             thickness=1,\n",
    "                                                                             circle_radius=1),\n",
    "                               connection_drawing_spec=mp_drawings.DrawingSpec(color=(0,0,0),\n",
    "                                                                               thickness=1))\n",
    "    \n",
    "    \n",
    "    #2. Righthand connections\n",
    "    \n",
    "    mp_drawings.draw_landmarks(image=img,\n",
    "                               landmark_list=result.right_hand_landmarks,\n",
    "                               connections=mp_holistic.HAND_CONNECTIONS,\n",
    "                               landmark_drawing_spec=mp_drawings.DrawingSpec(color=(255,255,0),\n",
    "                                                                             thickness=1,\n",
    "                                                                             circle_radius=1),\n",
    "                               connection_drawing_spec=mp_drawings.DrawingSpec(color=(255,0,0),\n",
    "                                                                               thickness=1))\n",
    "    \n",
    "    #3. Lefthand connections\n",
    "    \n",
    "    mp_drawings.draw_landmarks(image=img,\n",
    "                               landmark_list=result.left_hand_landmarks,\n",
    "                               connections=mp_holistic.HAND_CONNECTIONS,\n",
    "                               landmark_drawing_spec=mp_drawings.DrawingSpec(color=(0,255,255),\n",
    "                                                                             thickness=1,\n",
    "                                                                             circle_radius=1),\n",
    "                               connection_drawing_spec=mp_drawings.DrawingSpec(color=(0,0,255),\n",
    "                                                                               thickness=1))\n",
    "    \n",
    "    #4. Pose connections\n",
    "    \n",
    "    mp_drawings.draw_landmarks(image=img,\n",
    "                               landmark_list=result.pose_landmarks,\n",
    "                               connections=mp_holistic.POSE_CONNECTIONS,\n",
    "                               landmark_drawing_spec=mp_drawings.DrawingSpec(color=(255,220,190),\n",
    "                                                                             thickness=1,\n",
    "                                                                             circle_radius=1),\n",
    "                               connection_drawing_spec=mp_drawings.DrawingSpec(color=(0,0,0),\n",
    "                                                                               thickness=1))\n",
    "    cv2.imshow('dance',img)\n",
    "    \n",
    "    if cv2.waitKey(40) & 0xFF==ord('q'):\n",
    "      break\n",
    "  \n",
    "cap.release()\n",
    "cv2.destroyAllWindows()"
   ]
  },
  {
   "cell_type": "code",
   "execution_count": null,
   "metadata": {},
   "outputs": [],
   "source": []
  }
 ],
 "metadata": {
  "kernelspec": {
   "display_name": "Python 3",
   "language": "python",
   "name": "python3"
  },
  "language_info": {
   "codemirror_mode": {
    "name": "ipython",
    "version": 3
   },
   "file_extension": ".py",
   "mimetype": "text/x-python",
   "name": "python",
   "nbconvert_exporter": "python",
   "pygments_lexer": "ipython3",
   "version": "3.10.0"
  }
 },
 "nbformat": 4,
 "nbformat_minor": 2
}
